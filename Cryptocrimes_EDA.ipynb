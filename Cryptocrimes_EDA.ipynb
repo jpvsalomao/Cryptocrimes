{
  "cells": [
    {
      "cell_type": "markdown",
      "metadata": {
        "id": "view-in-github",
        "colab_type": "text"
      },
      "source": [
        "<a href=\"https://colab.research.google.com/github/jpvsalomao/Cryptocrimes/blob/main/Cryptocrimes_EDA.ipynb\" target=\"_parent\"><img src=\"https://colab.research.google.com/assets/colab-badge.svg\" alt=\"Open In Colab\"/></a>"
      ]
    },
    {
      "cell_type": "code",
      "execution_count": null,
      "metadata": {
        "id": "QxTmxDJKkP7s"
      },
      "outputs": [],
      "source": [
        "# Run below commands\n",
        "!apt-get install openjdk-8-jdk-headless -qq > /dev/null\n",
        "!wget -q https://archive.apache.org/dist/spark/spark-3.1.2/spark-3.1.2-bin-hadoop3.2.tgz\n",
        "!tar xf spark-3.1.2-bin-hadoop3.2.tgz\n",
        "!pip install -q findspark"
      ]
    },
    {
      "cell_type": "code",
      "execution_count": null,
      "metadata": {
        "id": "SQRPBQRmkkO5"
      },
      "outputs": [],
      "source": [
        "import os\n",
        "os.environ[\"JAVA_HOME\"] = \"/usr/lib/jvm/java-8-openjdk-amd64\"\n",
        "os.environ[\"SPARK_HOME\"] = \"/content/spark-3.1.2-bin-hadoop3.2\""
      ]
    },
    {
      "cell_type": "code",
      "execution_count": null,
      "metadata": {
        "id": "JwMjDm9skmTS"
      },
      "outputs": [],
      "source": [
        "import findspark\n",
        "findspark.init()\n",
        "from pyspark.sql import SparkSession\n",
        "from pyspark import SparkConf, SparkContext\n",
        "from datetime import datetime, date, timedelta\n",
        "from dateutil import relativedelta\n",
        "from pyspark.sql import SQLContext, Row\n",
        "from pyspark.sql.types import *\n",
        "from pyspark.sql.functions import *\n",
        "from pyspark.sql.functions import split\n",
        "from pyspark.sql import DataFrame\n",
        "from pyspark.sql.functions import *\n",
        "from pyspark.sql.functions import to_timestamp, to_date\n",
        "from pyspark.sql import functions as F  \n",
        "from pyspark.sql.functions import collect_list, collect_set, concat, first, array_distinct, col, size, expr\n",
        "from pyspark.sql import DataFrame \n",
        "import random\n",
        "import pandas as pd\n",
        "from pyspark.sql.functions import max\n",
        "from pyspark.sql.functions import desc"
      ]
    },
    {
      "cell_type": "code",
      "execution_count": null,
      "metadata": {
        "colab": {
          "base_uri": "https://localhost:8080/"
        },
        "id": "RJXLVrZCko-9",
        "outputId": "83add5fe-4f72-4629-d901-b34126e3c0fb"
      },
      "outputs": [
        {
          "name": "stdout",
          "output_type": "stream",
          "text": [
            "Drive already mounted at /content/drive; to attempt to forcibly remount, call drive.mount(\"/content/drive\", force_remount=True).\n"
          ]
        }
      ],
      "source": [
        "from google.colab import drive\n",
        "drive.mount(\"/content/drive\")"
      ]
    },
    {
      "cell_type": "code",
      "execution_count": null,
      "metadata": {
        "id": "4xjw1d24mAUg"
      },
      "outputs": [],
      "source": [
        "spark = SparkSession.builder.appName('eda').getOrCreate()"
      ]
    },
    {
      "cell_type": "code",
      "execution_count": null,
      "metadata": {
        "id": "8iQYrHEeksjR"
      },
      "outputs": [],
      "source": [
        "file1 = spark\\\n",
        "    .read\\\n",
        "    .option(\"inferSchema\", \"true\")\\\n",
        "    .option(\"header\", \"false\")\\\n",
        "    .csv(\"/content/drive/MyDrive/Crypto launders/token_0x12d66f87a04a9e220743712ce6d9bb1b5616b8fc.csv\")\n",
        " \n",
        "file2 = spark\\\n",
        "    .read\\\n",
        "    .option(\"inferSchema\", \"true\")\\\n",
        "    .option(\"header\", \"false\")\\\n",
        "    .csv(\"/content/drive/MyDrive/Crypto launders/token_0x3a1d526d09b7e59fd88de4726f68a8246ddc2742.csv\")\n",
        "\n",
        "\n",
        "file3 = spark\\\n",
        "    .read\\\n",
        "    .option(\"inferSchema\", \"true\")\\\n",
        "    .option(\"header\", \"false\")\\\n",
        "    .csv(\"/content/drive/MyDrive/Crypto launders/token_0x722122df12d4e14e13ac3b6895a86e84145b6967.csv\")\n",
        "\n",
        "file4 = spark\\\n",
        "    .read\\\n",
        "    .option(\"inferSchema\", \"true\")\\\n",
        "    .option(\"header\", \"false\")\\\n",
        "    .csv(\"/content/drive/MyDrive/Crypto launders/token_0x910cbd523d972eb0a6f4cae4618ad62622b39dbf.csv\")\n",
        "\n",
        "file5 = spark\\\n",
        "    .read\\\n",
        "    .option(\"inferSchema\", \"true\")\\\n",
        "    .option(\"header\", \"false\")\\\n",
        "    .csv(\"/content/drive/MyDrive/Crypto launders/token_0xA160cdAB225685dA1d56aa342Ad8841c3b53f291.csv\")\n",
        "\n",
        "file6 = spark\\\n",
        "    .read\\\n",
        "    .option(\"inferSchema\", \"true\")\\\n",
        "    .option(\"header\", \"false\")\\\n",
        "    .csv(\"/content/drive/MyDrive/Crypto launders/token_0xd90e2f925da726b50c4ed8d0fb90ad053324f31b.csv\")\n",
        "\n",
        "file7 = spark\\\n",
        "    .read\\\n",
        "    .option(\"inferSchema\", \"true\")\\\n",
        "    .option(\"header\", \"false\")\\\n",
        "    .csv(\"/content/drive/MyDrive/Crypto launders/token_0x47ce0c6ed5b0ce3d3a51fdb1c52dc66a7c3c2936.csv\")\n",
        "\n",
        "tokens_to_scrape = spark\\\n",
        "    .read\\\n",
        "    .option(\"inferSchema\", \"true\")\\\n",
        "    .option(\"header\", \"true\")\\\n",
        "    .csv(\"/content/drive/MyDrive/Crypto launders/tokenListToScrape.csv\")\n"
      ]
    },
    {
      "cell_type": "code",
      "execution_count": null,
      "metadata": {
        "colab": {
          "base_uri": "https://localhost:8080/"
        },
        "id": "io_-OQwIH6RY",
        "outputId": "14ff17c6-26a0-4ed2-d8fd-1c4b8f152323"
      },
      "outputs": [
        {
          "name": "stdout",
          "output_type": "stream",
          "text": [
            "Mounted at /content/drive\n"
          ]
        }
      ],
      "source": [
        "from google.colab import drive\n",
        "drive.mount('/content/drive', force_remount = True)"
      ]
    },
    {
      "cell_type": "markdown",
      "metadata": {
        "id": "G7e5IhnCIPqm"
      },
      "source": [
        "# Nova seção"
      ]
    },
    {
      "cell_type": "code",
      "execution_count": null,
      "metadata": {
        "id": "dtqPF0fWmJRH"
      },
      "outputs": [],
      "source": [
        "#### combining all the files ####\n",
        "\n",
        "df_concat = file1.union(file2)\n",
        "df_concat = df_concat.union(file3)\n",
        "df_concat = df_concat.union(file4)\n",
        "df_concat = df_concat.union(file5)\n",
        "df_concat = df_concat.union(file6)\n",
        "combined_transactions = df_concat.union(file7)"
      ]
    },
    {
      "cell_type": "code",
      "execution_count": null,
      "metadata": {
        "id": "WfwzK855n7ru"
      },
      "outputs": [],
      "source": [
        "columns = ['TxnHash', 'method', 'block', 'datetime', 'from', 'to', 'value', 'TxnFees']\n",
        "\n",
        "combined_transactions = combined_transactions.withColumnRenamed('_c0', 'TxnHash')\\\n",
        "                      .withColumnRenamed('_c1', 'method')\\\n",
        "                      .withColumnRenamed('_c2', 'block')\\\n",
        "                      .withColumnRenamed('_c3', 'datetime')\\\n",
        "                      .withColumnRenamed('_c4', 'from')\\\n",
        "                      .withColumnRenamed('_c5', 'to')\\\n",
        "                      .withColumnRenamed('_c6', 'value')\\\n",
        "                      .withColumnRenamed('_c7', 'TxnFees')"
      ]
    },
    {
      "cell_type": "code",
      "execution_count": null,
      "metadata": {
        "id": "DvcYqeNPpuZN"
      },
      "outputs": [],
      "source": [
        "### removing the word ether from the column ###\n",
        "\n",
        "combined_transactions = combined_transactions.withColumn(\"Value\", split(col(\"value\"), \" Ether\").getItem(0))"
      ]
    },
    {
      "cell_type": "code",
      "execution_count": null,
      "metadata": {
        "id": "d_GO_O_0wQuF"
      },
      "outputs": [],
      "source": [
        "combined_transactions = combined_transactions.withColumn(\"date\", split(col(\"datetime\"), \" \").getItem(0))\\\n",
        "                                              .withColumn(\"time\", split(col(\"datetime\"), \" \").getItem(1))"
      ]
    },
    {
      "cell_type": "code",
      "execution_count": null,
      "metadata": {
        "colab": {
          "base_uri": "https://localhost:8080/"
        },
        "id": "jDvgAPKfrbHa",
        "outputId": "ef710c71-a75a-4949-eb1a-79694f6911d5"
      },
      "outputs": [
        {
          "name": "stdout",
          "output_type": "stream",
          "text": [
            "root\n",
            " |-- TxnHash: string (nullable = true)\n",
            " |-- method: string (nullable = true)\n",
            " |-- block: integer (nullable = true)\n",
            " |-- datetime: string (nullable = true)\n",
            " |-- from: string (nullable = true)\n",
            " |-- to: string (nullable = true)\n",
            " |-- Value: string (nullable = true)\n",
            " |-- TxnFees: double (nullable = true)\n",
            " |-- date: string (nullable = true)\n",
            " |-- time: string (nullable = true)\n",
            "\n"
          ]
        }
      ],
      "source": [
        "combined_transactions.printSchema()"
      ]
    },
    {
      "cell_type": "code",
      "execution_count": null,
      "metadata": {
        "id": "LHGYkovorslX"
      },
      "outputs": [],
      "source": [
        "#### changing the data type of the combined transaction file ####\n",
        "\n",
        "combined_transactions = combined_transactions.withColumn(\"value\", \n",
        "                                  combined_transactions[\"Value\"]\n",
        "                                  .cast('float'))"
      ]
    },
    {
      "cell_type": "code",
      "execution_count": null,
      "metadata": {
        "colab": {
          "base_uri": "https://localhost:8080/"
        },
        "id": "kyNF49fjv5Yq",
        "outputId": "81f3130f-e925-4d63-efba-43d9357dbd60"
      },
      "outputs": [
        {
          "name": "stdout",
          "output_type": "stream",
          "text": [
            "+--------------------+----------+--------+--------------+--------------------+--------------------+-----+----------+--------+-----+\n",
            "|             TxnHash|    method|   block|      datetime|                from|                  to|value|   TxnFees|    date| time|\n",
            "+--------------------+----------+--------+--------------+--------------------+--------------------+-----+----------+--------+-----+\n",
            "|0x5019ed6a4024ecb...|   Deposit|14564890|11/04/22 08:11|         coinbro.eth|Tornado.Cash: 0.1...|  0.1|0.05442878|11/04/22|08:11|\n",
            "|0x271eb419fffbee0...|   Deposit|14563771|11/04/22 03:11|         coinbro.eth|Tornado.Cash: 0.1...|  0.1|0.04038231|11/04/22|03:11|\n",
            "|0xbcc67ef16dab428...|  Withdraw|14507337|02/04/22 08:11|0xe0f3772995bbac1...|Tornado.Cash: 0.1...|  0.0|0.01665735|02/04/22|08:11|\n",
            "|0x9415ee0a3ce8088...|  Withdraw|14452802|24/03/22 20:11|0xe0f3772995bbac1...|Tornado.Cash: 0.1...|  0.0|0.01302876|24/03/22|20:11|\n",
            "|0x6abfc8bbdff17ae...|  Withdraw|14452675|24/03/22 19:11|0xe0f3772995bbac1...|Tornado.Cash: 0.1...|  0.0|0.01943416|24/03/22|19:11|\n",
            "|0xe67845a9ee23eb7...|  Withdraw|14449957|24/03/22 09:11|0xe0f3772995bbac1...|Tornado.Cash: 0.1...|  0.0|0.02682859|24/03/22|09:11|\n",
            "|0xa0651e5885338f6...|  Withdraw|14428123|21/03/22 00:11|0xe0f3772995bbac1...|Tornado.Cash: 0.1...|  0.0|0.00779399|21/03/22|00:11|\n",
            "|0x22f241ae42b2755...|  Withdraw|14422241|20/03/22 02:11|0xe0f3772995bbac1...|Tornado.Cash: 0.1...|  0.0| 0.0041287|20/03/22|02:11|\n",
            "|0xe74fdd727ce3626...|  Withdraw|14411803|18/03/22 11:11|0xe0f3772995bbac1...|Tornado.Cash: 0.1...|  0.0|0.01712401|18/03/22|11:11|\n",
            "|0x15be141ae658939...|  Withdraw|14385546|14/03/22 09:11|0xe0f3772995bbac1...|Tornado.Cash: 0.1...|  0.0|0.01104351|14/03/22|09:11|\n",
            "|0xc0f68e962cec1a2...|  Withdraw|14379692|13/03/22 11:11|0xe0f3772995bbac1...|Tornado.Cash: 0.1...|  0.0| 0.0063865|13/03/22|11:11|\n",
            "|0x2ecc488bac635fa...|  Withdraw|14357231|09/03/22 22:40|0xe0f3772995bbac1...|Tornado.Cash: 0.1...|  0.0|0.01017902|09/03/22|22:40|\n",
            "|0x0ba8e6ae2823cd0...|  Withdraw|14357222|09/03/22 22:38|0xe0f3772995bbac1...|Tornado.Cash: 0.1...|  0.0|0.01179287|09/03/22|22:38|\n",
            "|0x071b47a1f93fdda...|  Withdraw|14357087|09/03/22 22:11|0xe0f3772995bbac1...|Tornado.Cash: 0.1...|  0.0|0.01102868|09/03/22|22:11|\n",
            "|0xe42a0c3d3e14fbd...|0x68747470|13867875|24/12/21 06:11|pulsechaindotcom.eth|Tornado.Cash: 0.1...|  0.0|0.00102462|24/12/21|06:11|\n",
            "|0x9ee0723bffa528b...|0x68747470|13867875|24/12/21 06:11|pulsechaindotcom.eth|Tornado.Cash: 0.1...|  0.0|0.00102462|24/12/21|06:11|\n",
            "|0x2c16c3443f8bb9e...|0x68747470|13867875|24/12/21 06:11|pulsechaindotcom.eth|Tornado.Cash: 0.1...|  0.0|0.00102462|24/12/21|06:11|\n",
            "|0x86ef63255e09f0c...|0x68747470|13867875|24/12/21 06:11|pulsechaindotcom.eth|Tornado.Cash: 0.1...|  0.0|0.00102462|24/12/21|06:11|\n",
            "|0x48f738587261c53...|0x68747470|13867875|24/12/21 06:11|pulsechaindotcom.eth|Tornado.Cash: 0.1...|  0.0|0.00102462|24/12/21|06:11|\n",
            "|0xb09b5474844afa7...|0x68747470|13867875|24/12/21 06:11|pulsechaindotcom.eth|Tornado.Cash: 0.1...|  0.0|0.00102462|24/12/21|06:11|\n",
            "+--------------------+----------+--------+--------------+--------------------+--------------------+-----+----------+--------+-----+\n",
            "only showing top 20 rows\n",
            "\n"
          ]
        }
      ],
      "source": [
        "combined_transactions.show()"
      ]
    },
    {
      "cell_type": "code",
      "execution_count": null,
      "metadata": {
        "id": "Jgj5v9HkmrGW"
      },
      "outputs": [],
      "source": [
        "#### converting it into sql table ####\n",
        "\n",
        "combined_transactions.createOrReplaceTempView(\"combined_sql\")"
      ]
    },
    {
      "cell_type": "code",
      "execution_count": null,
      "metadata": {
        "colab": {
          "base_uri": "https://localhost:8080/"
        },
        "id": "ux41ADRinTb0",
        "outputId": "4857abc8-4ad1-457e-e714-75af6fb572c1"
      },
      "outputs": [
        {
          "name": "stdout",
          "output_type": "stream",
          "text": [
            "+--------------------+--------+--------+--------------+--------------------+--------------------+-----+----------+--------+-----+\n",
            "|             TxnHash|  method|   block|      datetime|                from|                  to|value|   TxnFees|    date| time|\n",
            "+--------------------+--------+--------+--------------+--------------------+--------------------+-----+----------+--------+-----+\n",
            "|0x5019ed6a4024ecb...| Deposit|14564890|11/04/22 08:11|         coinbro.eth|Tornado.Cash: 0.1...|  0.1|0.05442878|11/04/22|08:11|\n",
            "|0x271eb419fffbee0...| Deposit|14563771|11/04/22 03:11|         coinbro.eth|Tornado.Cash: 0.1...|  0.1|0.04038231|11/04/22|03:11|\n",
            "|0xbcc67ef16dab428...|Withdraw|14507337|02/04/22 08:11|0xe0f3772995bbac1...|Tornado.Cash: 0.1...|  0.0|0.01665735|02/04/22|08:11|\n",
            "|0x9415ee0a3ce8088...|Withdraw|14452802|24/03/22 20:11|0xe0f3772995bbac1...|Tornado.Cash: 0.1...|  0.0|0.01302876|24/03/22|20:11|\n",
            "|0x6abfc8bbdff17ae...|Withdraw|14452675|24/03/22 19:11|0xe0f3772995bbac1...|Tornado.Cash: 0.1...|  0.0|0.01943416|24/03/22|19:11|\n",
            "|0xe67845a9ee23eb7...|Withdraw|14449957|24/03/22 09:11|0xe0f3772995bbac1...|Tornado.Cash: 0.1...|  0.0|0.02682859|24/03/22|09:11|\n",
            "|0xa0651e5885338f6...|Withdraw|14428123|21/03/22 00:11|0xe0f3772995bbac1...|Tornado.Cash: 0.1...|  0.0|0.00779399|21/03/22|00:11|\n",
            "|0x22f241ae42b2755...|Withdraw|14422241|20/03/22 02:11|0xe0f3772995bbac1...|Tornado.Cash: 0.1...|  0.0| 0.0041287|20/03/22|02:11|\n",
            "|0xe74fdd727ce3626...|Withdraw|14411803|18/03/22 11:11|0xe0f3772995bbac1...|Tornado.Cash: 0.1...|  0.0|0.01712401|18/03/22|11:11|\n",
            "|0x15be141ae658939...|Withdraw|14385546|14/03/22 09:11|0xe0f3772995bbac1...|Tornado.Cash: 0.1...|  0.0|0.01104351|14/03/22|09:11|\n",
            "+--------------------+--------+--------+--------------+--------------------+--------------------+-----+----------+--------+-----+\n",
            "\n"
          ]
        }
      ],
      "source": [
        "sql_code = spark.sql(\"\"\"\n",
        "  SELECT \n",
        "      *\n",
        "  FROM combined_sql\n",
        "  LIMIT 10\n",
        "  \"\"\")\n",
        "\n",
        "sql_code.show(10)"
      ]
    },
    {
      "cell_type": "code",
      "execution_count": null,
      "metadata": {
        "colab": {
          "base_uri": "https://localhost:8080/"
        },
        "id": "6HYbbA0DwGRx",
        "outputId": "976be452-8992-469d-ac45-468546dc2cf0"
      },
      "outputs": [
        {
          "name": "stdout",
          "output_type": "stream",
          "text": [
            "+--------------------+--------+--------+--------------------+--------------------+-----+----------+-----+----------+\n",
            "|             TxnHash|  method|   block|                from|                  to|value|   TxnFees| time|      date|\n",
            "+--------------------+--------+--------+--------------------+--------------------+-----+----------+-----+----------+\n",
            "|0x5019ed6a4024ecb...| Deposit|14564890|         coinbro.eth|Tornado.Cash: 0.1...|  0.1|0.05442878|08:11|2022-04-11|\n",
            "|0x271eb419fffbee0...| Deposit|14563771|         coinbro.eth|Tornado.Cash: 0.1...|  0.1|0.04038231|03:11|2022-04-11|\n",
            "|0xbcc67ef16dab428...|Withdraw|14507337|0xe0f3772995bbac1...|Tornado.Cash: 0.1...|  0.0|0.01665735|08:11|2022-04-02|\n",
            "|0x9415ee0a3ce8088...|Withdraw|14452802|0xe0f3772995bbac1...|Tornado.Cash: 0.1...|  0.0|0.01302876|20:11|2022-03-24|\n",
            "|0x6abfc8bbdff17ae...|Withdraw|14452675|0xe0f3772995bbac1...|Tornado.Cash: 0.1...|  0.0|0.01943416|19:11|2022-03-24|\n",
            "|0xe67845a9ee23eb7...|Withdraw|14449957|0xe0f3772995bbac1...|Tornado.Cash: 0.1...|  0.0|0.02682859|09:11|2022-03-24|\n",
            "|0xa0651e5885338f6...|Withdraw|14428123|0xe0f3772995bbac1...|Tornado.Cash: 0.1...|  0.0|0.00779399|00:11|2022-03-21|\n",
            "|0x22f241ae42b2755...|Withdraw|14422241|0xe0f3772995bbac1...|Tornado.Cash: 0.1...|  0.0| 0.0041287|02:11|2022-03-20|\n",
            "|0xe74fdd727ce3626...|Withdraw|14411803|0xe0f3772995bbac1...|Tornado.Cash: 0.1...|  0.0|0.01712401|11:11|2022-03-18|\n",
            "|0x15be141ae658939...|Withdraw|14385546|0xe0f3772995bbac1...|Tornado.Cash: 0.1...|  0.0|0.01104351|09:11|2022-03-14|\n",
            "+--------------------+--------+--------+--------------------+--------------------+-----+----------+-----+----------+\n",
            "only showing top 10 rows\n",
            "\n"
          ]
        }
      ],
      "source": [
        "sql_code = spark.sql(\"\"\"\n",
        "  SELECT \n",
        "      TxnHash,\n",
        "      method,\n",
        "      block,\n",
        "      from,\n",
        "      to, \n",
        "      value,\n",
        "      TxnFees,\n",
        "      time,\n",
        "      to_date(date, 'dd/MM/yy') AS date\n",
        "  FROM combined_sql\n",
        "  \"\"\")\n",
        "\n",
        "sql_code.show(10)"
      ]
    },
    {
      "cell_type": "code",
      "execution_count": null,
      "metadata": {
        "id": "uHl2mhqixUR2"
      },
      "outputs": [],
      "source": [
        "sql_code.createOrReplaceTempView(\"combined_sql2\")"
      ]
    },
    {
      "cell_type": "code",
      "execution_count": null,
      "metadata": {
        "colab": {
          "base_uri": "https://localhost:8080/"
        },
        "id": "xq5eE431NojX",
        "outputId": "a752ea5b-7326-4eec-cdb4-1285bb8e9d1d"
      },
      "outputs": [
        {
          "name": "stdout",
          "output_type": "stream",
          "text": [
            "+--------------------+----------+--------+--------------------+--------------------+-----+----------+-----+----------+\n",
            "|             TxnHash|    method|   block|                from|                  to|value|   TxnFees| time|      date|\n",
            "+--------------------+----------+--------+--------------------+--------------------+-----+----------+-----+----------+\n",
            "|0x5019ed6a4024ecb...|   Deposit|14564890|         coinbro.eth|Tornado.Cash: 0.1...|  0.1|0.05442878|08:11|2022-04-11|\n",
            "|0x271eb419fffbee0...|   Deposit|14563771|         coinbro.eth|Tornado.Cash: 0.1...|  0.1|0.04038231|03:11|2022-04-11|\n",
            "|0xbcc67ef16dab428...|  Withdraw|14507337|0xe0f3772995bbac1...|Tornado.Cash: 0.1...|  0.0|0.01665735|08:11|2022-04-02|\n",
            "|0x9415ee0a3ce8088...|  Withdraw|14452802|0xe0f3772995bbac1...|Tornado.Cash: 0.1...|  0.0|0.01302876|20:11|2022-03-24|\n",
            "|0x6abfc8bbdff17ae...|  Withdraw|14452675|0xe0f3772995bbac1...|Tornado.Cash: 0.1...|  0.0|0.01943416|19:11|2022-03-24|\n",
            "|0xe67845a9ee23eb7...|  Withdraw|14449957|0xe0f3772995bbac1...|Tornado.Cash: 0.1...|  0.0|0.02682859|09:11|2022-03-24|\n",
            "|0xa0651e5885338f6...|  Withdraw|14428123|0xe0f3772995bbac1...|Tornado.Cash: 0.1...|  0.0|0.00779399|00:11|2022-03-21|\n",
            "|0x22f241ae42b2755...|  Withdraw|14422241|0xe0f3772995bbac1...|Tornado.Cash: 0.1...|  0.0| 0.0041287|02:11|2022-03-20|\n",
            "|0xe74fdd727ce3626...|  Withdraw|14411803|0xe0f3772995bbac1...|Tornado.Cash: 0.1...|  0.0|0.01712401|11:11|2022-03-18|\n",
            "|0x15be141ae658939...|  Withdraw|14385546|0xe0f3772995bbac1...|Tornado.Cash: 0.1...|  0.0|0.01104351|09:11|2022-03-14|\n",
            "|0xc0f68e962cec1a2...|  Withdraw|14379692|0xe0f3772995bbac1...|Tornado.Cash: 0.1...|  0.0| 0.0063865|11:11|2022-03-13|\n",
            "|0x2ecc488bac635fa...|  Withdraw|14357231|0xe0f3772995bbac1...|Tornado.Cash: 0.1...|  0.0|0.01017902|22:40|2022-03-09|\n",
            "|0x0ba8e6ae2823cd0...|  Withdraw|14357222|0xe0f3772995bbac1...|Tornado.Cash: 0.1...|  0.0|0.01179287|22:38|2022-03-09|\n",
            "|0x071b47a1f93fdda...|  Withdraw|14357087|0xe0f3772995bbac1...|Tornado.Cash: 0.1...|  0.0|0.01102868|22:11|2022-03-09|\n",
            "|0xe42a0c3d3e14fbd...|0x68747470|13867875|pulsechaindotcom.eth|Tornado.Cash: 0.1...|  0.0|0.00102462|06:11|2021-12-24|\n",
            "|0x9ee0723bffa528b...|0x68747470|13867875|pulsechaindotcom.eth|Tornado.Cash: 0.1...|  0.0|0.00102462|06:11|2021-12-24|\n",
            "|0x2c16c3443f8bb9e...|0x68747470|13867875|pulsechaindotcom.eth|Tornado.Cash: 0.1...|  0.0|0.00102462|06:11|2021-12-24|\n",
            "|0x86ef63255e09f0c...|0x68747470|13867875|pulsechaindotcom.eth|Tornado.Cash: 0.1...|  0.0|0.00102462|06:11|2021-12-24|\n",
            "|0x48f738587261c53...|0x68747470|13867875|pulsechaindotcom.eth|Tornado.Cash: 0.1...|  0.0|0.00102462|06:11|2021-12-24|\n",
            "|0xb09b5474844afa7...|0x68747470|13867875|pulsechaindotcom.eth|Tornado.Cash: 0.1...|  0.0|0.00102462|06:11|2021-12-24|\n",
            "+--------------------+----------+--------+--------------------+--------------------+-----+----------+-----+----------+\n",
            "only showing top 20 rows\n",
            "\n"
          ]
        }
      ],
      "source": [
        "sql_code = spark.sql(\"\"\"\n",
        "  SELECT \n",
        "      *\n",
        "  FROM combined_sql2\n",
        "  \"\"\")\n",
        "\n",
        "sql_code.show()"
      ]
    },
    {
      "cell_type": "code",
      "execution_count": null,
      "metadata": {
        "colab": {
          "base_uri": "https://localhost:8080/"
        },
        "id": "pjzUtdWFxX-X",
        "outputId": "d03f2ea1-2096-43ec-bc7b-cadabaa77515"
      },
      "outputs": [
        {
          "name": "stdout",
          "output_type": "stream",
          "text": [
            "+--------+\n",
            "|count(1)|\n",
            "+--------+\n",
            "|  169621|\n",
            "+--------+\n",
            "\n"
          ]
        }
      ],
      "source": [
        "sql_code = spark.sql(\"\"\"\n",
        "  SELECT \n",
        "      COUNT(*)\n",
        "  FROM combined_sql2\n",
        "  \"\"\")\n",
        "\n",
        "sql_code.show()"
      ]
    },
    {
      "cell_type": "code",
      "execution_count": null,
      "metadata": {
        "colab": {
          "base_uri": "https://localhost:8080/"
        },
        "id": "LrlSa7b8xk4P",
        "outputId": "099ad4ca-d3cf-419b-a01d-769362a9271a"
      },
      "outputs": [
        {
          "name": "stdout",
          "output_type": "stream",
          "text": [
            "+--------------------+-----------+\n",
            "|                from|total_value|\n",
            "+--------------------+-----------+\n",
            "|    Bitmart Hacker 2|    21170.0|\n",
            "|0x5481eccfce4303e...|    15803.0|\n",
            "|0x7a7ebe060943650...|    12720.0|\n",
            "|0x34a17418cec67b8...|    11500.0|\n",
            "|0x1b7baa734c00298...|    10800.0|\n",
            "|0xe0e484dfa7f3aa3...|    10200.0|\n",
            "|            sifu.eth|    10061.0|\n",
            "|0xd88189f7dee6e5d...|    10000.0|\n",
            "|0x20d9e73aafe69a3...|     9960.0|\n",
            "|Vee Finance Explo...|     8801.0|\n",
            "+--------------------+-----------+\n",
            "only showing top 10 rows\n",
            "\n"
          ]
        }
      ],
      "source": [
        "### value of transaction ###\n",
        "\n",
        "sql_code = spark.sql(\"\"\"\n",
        "  SELECT \n",
        "      from,\n",
        "      SUM(value) AS total_value\n",
        "  FROM combined_sql2\n",
        "  GROUP BY 1\n",
        "  ORDER BY 2 DESC\n",
        "  \"\"\")\n",
        "\n",
        "sql_code.show(10)"
      ]
    },
    {
      "cell_type": "code",
      "execution_count": null,
      "metadata": {
        "colab": {
          "base_uri": "https://localhost:8080/"
        },
        "id": "1Od5dc8Kx58Y",
        "outputId": "77b0245f-8e03-42f3-deed-2574049f1c53"
      },
      "outputs": [
        {
          "name": "stdout",
          "output_type": "stream",
          "text": [
            "+--------------------+------------------+\n",
            "|                from|total_transactions|\n",
            "+--------------------+------------------+\n",
            "|0xd6187b4a0f51355...|              6885|\n",
            "|0xbe4d1e137a24af0...|              6827|\n",
            "|0x20bb3095a4852f4...|              6045|\n",
            "|0xa0f0287683e820f...|              5860|\n",
            "|0x49136693081f2c1...|              5758|\n",
            "|0x7d3bb46c78b0c49...|              3919|\n",
            "|0x03ebd2ea2b9f236...|              2914|\n",
            "|0x2d50dbcc960bec8...|              2522|\n",
            "|      poarelayer.eth|              1846|\n",
            "|0xa8af5873c59dca7...|              1585|\n",
            "+--------------------+------------------+\n",
            "only showing top 10 rows\n",
            "\n"
          ]
        }
      ],
      "source": [
        "### total number of transaction ###\n",
        "\n",
        "sql_code = spark.sql(\"\"\"\n",
        "  SELECT \n",
        "      from,\n",
        "      COUNT(value) AS total_transactions\n",
        "  FROM combined_sql2\n",
        "  GROUP BY 1\n",
        "  ORDER BY 2 DESC\n",
        "  \"\"\")\n",
        "\n",
        "sql_code.show(10)"
      ]
    },
    {
      "cell_type": "code",
      "execution_count": null,
      "metadata": {
        "colab": {
          "base_uri": "https://localhost:8080/"
        },
        "id": "MEyEZ3sEmWRH",
        "outputId": "47e8f4c6-18aa-4215-ef90-02a5638c68c1"
      },
      "outputs": [
        {
          "name": "stdout",
          "output_type": "stream",
          "text": [
            "+--------------+--------------+------------------+-----------------+\n",
            "|          from|            to|        value_sent|   value_received|\n",
            "+--------------+--------------+------------------+-----------------+\n",
            "|em3tornado.eth|em3tornado.eth|0.2818463023286313|1.493749976158142|\n",
            "+--------------+--------------+------------------+-----------------+\n",
            "\n"
          ]
        }
      ],
      "source": [
        "#### checking if there is an interesection between top 1000 user ids in both from and to in terms of total value #####\n",
        "\n",
        "intersection_sql = spark.sql(\"\"\"\n",
        "WITH cte1 AS (\n",
        "  SELECT \n",
        "      from,\n",
        "      SUM(value) AS tv1\n",
        "  FROM combined_sql2\n",
        "  GROUP BY 1\n",
        "  ORDER BY 2 DESC\n",
        "),\n",
        "cte2 AS (\n",
        "  SELECT \n",
        "      to,\n",
        "      SUM(value) AS tv2\n",
        "  FROM combined_sql2\n",
        "  GROUP BY 1\n",
        "  ORDER BY 2 DESC\n",
        ")\n",
        "SELECT\n",
        "    cte1.from,\n",
        "    cte2.to,\n",
        "    cte1.tv1 AS value_sent,\n",
        "    cte2.tv2 AS value_received\n",
        "FROM cte1\n",
        "INNER JOIN cte2\n",
        "ON cte1.from = cte2.to\n",
        "\"\"\")\n",
        "intersection_sql.show()"
      ]
    },
    {
      "cell_type": "markdown",
      "metadata": {
        "id": "2e_eifgtnrjz"
      },
      "source": [
        "No one in 'from' is present inside 'to' and which is how it should be since this only contains transaction done to tornado cash i.e. deposit and not withdrawal. "
      ]
    },
    {
      "cell_type": "code",
      "execution_count": null,
      "metadata": {
        "colab": {
          "base_uri": "https://localhost:8080/"
        },
        "id": "FNBFfUw9oLyk",
        "outputId": "aea6a68d-0ad2-44a2-b34e-f01f9220e035"
      },
      "outputs": [
        {
          "name": "stdout",
          "output_type": "stream",
          "text": [
            "+----+-----+--------------------+\n",
            "|year|month|         total_value|\n",
            "+----+-----+--------------------+\n",
            "|2019|   12|   2568.200000755489|\n",
            "|2020|    1|   9524.800000861287|\n",
            "|2020|    2|   8516.300000600517|\n",
            "|2020|    3|   5361.201000554371|\n",
            "|2020|    4|  13060.800000622869|\n",
            "|2020|    5|  25428.200000479817|\n",
            "|2020|    6|  14535.400000408292|\n",
            "|2020|    7|  25590.200100360606|\n",
            "|2020|    8|   34913.80000023544|\n",
            "|2020|    9|   54464.80000026524|\n",
            "|2020|   10|  148754.20000119507|\n",
            "|2020|   11|  106461.40010119806|\n",
            "|2020|   12|  56437.950000640005|\n",
            "|2021|    1|  200.10000000149012|\n",
            "|2021|    2|   302.1007769564749|\n",
            "|2021|    3|6.637100013904274E-4|\n",
            "|2021|    4|  100.10000000149012|\n",
            "|2021|    5|  120.10000000149012|\n",
            "|2021|    6|  12625.208360181306|\n",
            "|2021|    7|   111612.7006117191|\n",
            "|2021|    8|  153499.33085846156|\n",
            "|2021|    9|  119479.53479407169|\n",
            "|2021|   10|  107458.19046464656|\n",
            "|2021|   11|   97771.43301149149|\n",
            "|2021|   12|  139573.06948774913|\n",
            "|2022|    1|  113939.87440695427|\n",
            "|2022|    2|  114614.81008641189|\n",
            "|2022|    3|    114896.051984724|\n",
            "|2022|    4|   72980.52749985264|\n",
            "|2022|    5|                 0.0|\n",
            "+----+-----+--------------------+\n",
            "\n"
          ]
        }
      ],
      "source": [
        "#### year wise value ####\n",
        "\n",
        "year_sql = spark.sql(\"\"\"\n",
        "  SELECT \n",
        "      year(date) AS year,\n",
        "      month(date) AS month,\n",
        "      SUM(value) AS total_value\n",
        "  FROM combined_sql2\n",
        "  GROUP BY 1, 2\n",
        "  ORDER BY 1, 2\n",
        "  \"\"\")\n",
        "\n",
        "year_sql.show(100)"
      ]
    },
    {
      "cell_type": "markdown",
      "metadata": {
        "id": "ihzb2K9xqcxu"
      },
      "source": [
        "The activity in the last 6-7 months has exploded. "
      ]
    },
    {
      "cell_type": "code",
      "execution_count": null,
      "metadata": {
        "colab": {
          "base_uri": "https://localhost:8080/"
        },
        "id": "5NHQUQxOqboV",
        "outputId": "cbd263ce-ff90-482e-dd73-d081f59f2b38"
      },
      "outputs": [
        {
          "name": "stdout",
          "output_type": "stream",
          "text": [
            "+--------------------+\n",
            "|             TxnHash|\n",
            "+--------------------+\n",
            "|0x3766535adf78cd2...|\n",
            "|0xea7c000c8a6a3cf...|\n",
            "|0xb14524ec40ec59e...|\n",
            "|0xb90c6c946fb7f39...|\n",
            "|0xcee918b9d619d39...|\n",
            "|0xbfc8ac90916cd7d...|\n",
            "|0x54fe8c964bd5355...|\n",
            "|0xe40eedfd646c03d...|\n",
            "|0x7dcec300d85d72e...|\n",
            "|0x7555116847ae2eb...|\n",
            "|0xb74b874371b1771...|\n",
            "|0xf0b752297ecc469...|\n",
            "|0xcb9d19da44fce40...|\n",
            "|0xe5bb17e135adbd5...|\n",
            "|0x16d02d2d835d9d4...|\n",
            "|0x9fb0f33af635cac...|\n",
            "|0xe7d9a56b208cd06...|\n",
            "|0xc6629cd0c3c4d3a...|\n",
            "|0xbf8ebf8b5b5b2ed...|\n",
            "|0xa7077d0b3e88596...|\n",
            "+--------------------+\n",
            "only showing top 20 rows\n",
            "\n"
          ]
        }
      ],
      "source": [
        "sql_code = spark.sql(\"\"\"\n",
        "  SELECT \n",
        "      DISTINCT TxnHash \n",
        "  FROM combined_sql2\n",
        "  WHERE to LIKE \"Tornado.Cash:%ETH\"\n",
        "  AND method = \"Withdraw\"\n",
        "  \"\"\")\n",
        "\n",
        "sql_code.show(20)"
      ]
    },
    {
      "cell_type": "code",
      "execution_count": null,
      "metadata": {
        "colab": {
          "base_uri": "https://localhost:8080/"
        },
        "id": "ip0cusqcx6Vs",
        "outputId": "46c5631d-f112-4cc7-a567-551699d1734d"
      },
      "outputs": [
        {
          "name": "stdout",
          "output_type": "stream",
          "text": [
            "+----+-----+--------------------+------------+-----+----------------+-----------+\n",
            "|year|month|         total_value|transactions|users|avg_transactions|total_value|\n",
            "+----+-----+--------------------+------------+-----+----------------+-----------+\n",
            "|2021|    1|  200.10000000149012|           5|    3|            1.67|      200.1|\n",
            "|2021|    2|   302.1007769564749|           7|    5|             1.4|      302.1|\n",
            "|2021|    3|6.637100013904274E-4|           1|    1|             1.0|        0.0|\n",
            "|2021|    4|  100.10000000149012|           2|    2|             1.0|      100.1|\n",
            "|2021|    5|  120.10000000149012|           6|    4|             1.5|      120.1|\n",
            "|2021|    6|  12625.208360181306|        1541|  323|            4.77|   12625.21|\n",
            "|2021|    7|   111612.7006117191|       15485| 2326|            6.66|   111612.7|\n",
            "|2021|    8|  153499.33085846156|       13953| 2448|             5.7|  153499.33|\n",
            "|2021|    9|  119479.53479407169|       12308| 2166|            5.68|  119479.53|\n",
            "|2021|   10|  107458.19046464656|       11839| 2063|            5.74|  107458.19|\n",
            "|2021|   11|   97771.43301149149|       13338| 2170|            6.15|   97771.43|\n",
            "|2021|   12|  139573.06948774913|       12410| 2042|            6.08|  139573.07|\n",
            "|2022|    1|  113939.87440695427|       10236| 1897|             5.4|  113939.87|\n",
            "|2022|    2|  114614.81008641189|       11577| 2138|            5.41|  114614.81|\n",
            "|2022|    3|    114896.051984724|       16479| 2916|            5.65|  114896.05|\n",
            "|2022|    4|   72980.52749985264|        5857| 1181|            4.96|   72980.53|\n",
            "|2022|    5|                 0.0|           4|    1|             4.0|        0.0|\n",
            "+----+-----+--------------------+------------+-----+----------------+-----------+\n",
            "\n"
          ]
        }
      ],
      "source": [
        "year_sql = spark.sql(\"\"\"\n",
        "  SELECT \n",
        "      year(date) AS year,\n",
        "      month(date) AS month,\n",
        "      SUM(value) AS total_value,\n",
        "      COUNT(DISTINCT TxnHash) AS transactions,\n",
        "      COUNT(DISTINCT from) AS users,\n",
        "      ROUND(COUNT(DISTINCT TxnHash) / COUNT(DISTINCT from), 2) AS avg_transactions,\n",
        "      ROUND(SUM(value), 2) AS total_value\n",
        "  FROM combined_sql2\n",
        "  WHERE year(date) >= 2021\n",
        "  GROUP BY 1, 2\n",
        "  ORDER BY 1, 2\n",
        "  \"\"\")\n",
        "\n",
        "year_sql.show(100)"
      ]
    },
    {
      "cell_type": "code",
      "execution_count": null,
      "metadata": {
        "colab": {
          "base_uri": "https://localhost:8080/"
        },
        "id": "STVPV5e21Wg6",
        "outputId": "28a18828-113c-404f-aa50-5de7029381c5"
      },
      "outputs": [
        {
          "name": "stdout",
          "output_type": "stream",
          "text": [
            "+----+-----+----------+-------------------+------------+-----+----------------+-----------+\n",
            "|year|month|      date|        total_value|transactions|users|avg_transactions|total_value|\n",
            "+----+-----+----------+-------------------+------------+-----+----------------+-----------+\n",
            "|2021|    4|2021-04-24|0.10000000149011612|           1|    1|             1.0|        0.1|\n",
            "|2021|    4|2021-04-30|              100.0|           1|    1|             1.0|      100.0|\n",
            "|2021|    5|2021-05-06|0.10000000149011612|           2|    2|             1.0|        0.1|\n",
            "|2021|    5|2021-05-07|                0.0|           1|    1|             1.0|        0.0|\n",
            "|2021|    5|2021-05-11|              120.0|           3|    1|             3.0|      120.0|\n",
            "|2021|    6|2021-06-05|0.10000000149011612|           2|    2|             1.0|        0.1|\n",
            "|2021|    6|2021-06-12|0.10000000149011612|           1|    1|             1.0|        0.1|\n",
            "|2021|    6|2021-06-26|0.10000000149011612|           1|    1|             1.0|        0.1|\n",
            "|2021|    6|2021-06-28|  6207.608470053528|         357|   98|            3.64|    6207.61|\n",
            "|2021|    6|2021-06-29|  2597.229050077731|         657|  147|            4.47|    2597.23|\n",
            "|2021|    6|2021-06-30|  3820.070840045577|         523|  130|            4.02|    3820.07|\n",
            "|2021|    7|2021-07-01|  4940.621390083572|         492|  130|            3.78|    4940.62|\n",
            "|2021|    7|2021-07-02|   7399.63845011848|         862|  149|            5.79|    7399.64|\n",
            "|2021|    7|2021-07-03|  5419.018130134209|         658|  136|            4.84|    5419.02|\n",
            "|2021|    7|2021-07-04|  7354.931800057704|         683|  144|            4.74|    7354.93|\n",
            "|2021|    7|2021-07-05|  3821.937370057567|         808|  157|            5.15|    3821.94|\n",
            "|2021|    7|2021-07-06| 2906.0235300441273|         295|   81|            3.64|    2906.02|\n",
            "|2021|    7|2021-07-07|  2656.546850022394|         448|  119|            3.76|    2656.55|\n",
            "|2021|    7|2021-07-08|  2113.128870045999|         292|  106|            2.75|    2113.13|\n",
            "|2021|    7|2021-07-09|  4629.151570030954|         640|  119|            5.38|    4629.15|\n",
            "+----+-----+----------+-------------------+------------+-----+----------------+-----------+\n",
            "only showing top 20 rows\n",
            "\n"
          ]
        }
      ],
      "source": [
        "year_sql = spark.sql(\"\"\"\n",
        "  SELECT \n",
        "      year(date) AS year,\n",
        "      month(date) AS month,\n",
        "      date,\n",
        "      SUM(value) AS total_value,\n",
        "      COUNT(DISTINCT TxnHash) AS transactions,\n",
        "      COUNT(DISTINCT from) AS users,\n",
        "      ROUND(COUNT(DISTINCT TxnHash) / COUNT(DISTINCT from), 2) AS avg_transactions,\n",
        "      ROUND(SUM(value), 2) AS total_value\n",
        "  FROM combined_sql2\n",
        "  WHERE year(date) = 2021\n",
        "        AND month(date) BETWEEN 4 and 7 \n",
        "  GROUP BY 1, 2, 3\n",
        "  ORDER BY 3\n",
        "  \"\"\")\n",
        "\n",
        "year_sql.show()"
      ]
    },
    {
      "cell_type": "markdown",
      "metadata": {
        "id": "W75CzSqZ13T4"
      },
      "source": [
        "I went through their twitter account and this increase is actually preceeded by listing on BNB and Polygon blockchain networks and that's when the trasactions expanded. "
      ]
    },
    {
      "cell_type": "code",
      "execution_count": null,
      "metadata": {
        "id": "_FB965kxvLcO"
      },
      "outputs": [],
      "source": [
        "# from google.colab import files\n",
        "\n",
        "# df = sql_code.toPandas()\n",
        "# df.to_csv('txnHash_withdraw.csv', encoding = 'utf-8-sig') \n",
        "# files.download('txnHash_withdraw.csv')"
      ]
    },
    {
      "cell_type": "code",
      "execution_count": null,
      "metadata": {
        "colab": {
          "base_uri": "https://localhost:8080/"
        },
        "id": "4i_hsjCWkLI2",
        "outputId": "84d152d9-8825-4b91-ad18-af6f9d66b2ef"
      },
      "outputs": [
        {
          "name": "stdout",
          "output_type": "stream",
          "text": [
            "+----+-----+--------------------+------------+-----+----------------+-----------+\n",
            "|year|month|         total_value|transactions|users|avg_transactions|total_value|\n",
            "+----+-----+--------------------+------------+-----+----------------+-----------+\n",
            "|2019|   12|   2568.200000755489|         923|  272|            3.39|     2568.2|\n",
            "|2020|    1|   9524.800000861287|        2099|  586|            3.58|     9524.8|\n",
            "|2020|    2|   8516.300000600517|        1898|  485|            3.91|     8516.3|\n",
            "|2020|    3|   5361.201000554371|        1646|  410|            4.01|     5361.2|\n",
            "|2020|    4|  13060.800000622869|        2245|  439|            5.11|    13060.8|\n",
            "|2020|    5|  25428.200000479817|        2753|  489|            5.63|    25428.2|\n",
            "|2020|    6|  14535.400000408292|        2292|  561|            4.09|    14535.4|\n",
            "|2020|    7|  25590.200100360606|        2474|  594|            4.16|    25590.2|\n",
            "|2020|    8|   34913.80000023544|        2656|  611|            4.35|    34913.8|\n",
            "|2020|    9|   54464.80000026524|        4037|  885|            4.56|    54464.8|\n",
            "|2020|   10|  148754.20000119507|        8748| 1832|            4.78|   148754.2|\n",
            "|2020|   11|  106461.40010119806|        7748| 1729|            4.48|   106461.4|\n",
            "|2020|   12|  56437.950000640005|        4237| 1040|            4.07|   56437.95|\n",
            "|2021|    1|  200.10000000149012|           5|    3|            1.67|      200.1|\n",
            "|2021|    2|   302.1007769564749|           7|    5|             1.4|      302.1|\n",
            "|2021|    3|6.637100013904274E-4|           1|    1|             1.0|        0.0|\n",
            "|2021|    4|  100.10000000149012|           2|    2|             1.0|      100.1|\n",
            "|2021|    5|  120.10000000149012|           6|    4|             1.5|      120.1|\n",
            "|2021|    6|  12625.208360181306|        1541|  323|            4.77|   12625.21|\n",
            "|2021|    7|   111612.7006117191|       15485| 2326|            6.66|   111612.7|\n",
            "+----+-----+--------------------+------------+-----+----------------+-----------+\n",
            "only showing top 20 rows\n",
            "\n"
          ]
        }
      ],
      "source": [
        "year_sql = spark.sql(\"\"\"\n",
        "  SELECT \n",
        "      year(date) AS year,\n",
        "      month(date) AS month,\n",
        "      SUM(value) AS total_value,\n",
        "      COUNT(DISTINCT TxnHash) AS transactions,\n",
        "      COUNT(DISTINCT from) AS users,\n",
        "      ROUND(COUNT(DISTINCT TxnHash) / COUNT(DISTINCT from), 2) AS avg_transactions,\n",
        "      ROUND(SUM(value), 2) AS total_value\n",
        "  FROM combined_sql2 \n",
        "  GROUP BY 1, 2\n",
        "  ORDER BY 1,2\n",
        "  \"\"\")\n",
        "\n",
        "year_sql.show()"
      ]
    },
    {
      "cell_type": "code",
      "execution_count": null,
      "metadata": {
        "colab": {
          "base_uri": "https://localhost:8080/"
        },
        "id": "47RW7RImNEDq",
        "outputId": "458b236a-5da0-40cb-f3d5-df42b9602328"
      },
      "outputs": [
        {
          "name": "stdout",
          "output_type": "stream",
          "text": [
            "+--------------------+--------+--------+--------------------+--------------------+-----+----------+-----+----------+\n",
            "|             TxnHash|  method|   block|                from|                  to|value|   TxnFees| time|      date|\n",
            "+--------------------+--------+--------+--------------------+--------------------+-----+----------+-----+----------+\n",
            "|0x5019ed6a4024ecb...| Deposit|14564890|         coinbro.eth|Tornado.Cash: 0.1...|  0.1|0.05442878|08:11|2022-04-11|\n",
            "|0x271eb419fffbee0...| Deposit|14563771|         coinbro.eth|Tornado.Cash: 0.1...|  0.1|0.04038231|03:11|2022-04-11|\n",
            "|0xbcc67ef16dab428...|Withdraw|14507337|0xe0f3772995bbac1...|Tornado.Cash: 0.1...|  0.0|0.01665735|08:11|2022-04-02|\n",
            "|0x9415ee0a3ce8088...|Withdraw|14452802|0xe0f3772995bbac1...|Tornado.Cash: 0.1...|  0.0|0.01302876|20:11|2022-03-24|\n",
            "|0x6abfc8bbdff17ae...|Withdraw|14452675|0xe0f3772995bbac1...|Tornado.Cash: 0.1...|  0.0|0.01943416|19:11|2022-03-24|\n",
            "+--------------------+--------+--------+--------------------+--------------------+-----+----------+-----+----------+\n",
            "only showing top 5 rows\n",
            "\n"
          ]
        }
      ],
      "source": [
        "sql_code = spark.sql(\"\"\"\n",
        "  SELECT \n",
        "      *\n",
        "  FROM combined_sql2\n",
        "  \"\"\")\n",
        "\n",
        "sql_code.show(5)"
      ]
    },
    {
      "cell_type": "code",
      "execution_count": null,
      "metadata": {
        "colab": {
          "base_uri": "https://localhost:8080/"
        },
        "id": "noEUf6KGNw0Z",
        "outputId": "e5189f36-530b-44ae-f9da-424c22a92bb9"
      },
      "outputs": [
        {
          "name": "stdout",
          "output_type": "stream",
          "text": [
            "+--------------------+--------+------------+\n",
            "|                  to|  method|count(value)|\n",
            "+--------------------+--------+------------+\n",
            "|Tornado.Cash: 0.1...|Withdraw|        4234|\n",
            "|Tornado.Cash: 0.1...| Deposit|        5254|\n",
            "| Tornado.Cash: 1 ETH|Withdraw|        5967|\n",
            "| Tornado.Cash: 1 ETH| Deposit|        6397|\n",
            "|Tornado.Cash: 10 ETH| Deposit|        6979|\n",
            "|Tornado.Cash: 10 ETH|Withdraw|        6729|\n",
            "|Tornado.Cash: 100...| Deposit|        4358|\n",
            "|Tornado.Cash: 100...|Withdraw|        3999|\n",
            "| Tornado.Cash: Proxy|Withdraw|       52261|\n",
            "| Tornado.Cash: Proxy| Deposit|       46682|\n",
            "|Tornado.Cash: Router| Deposit|       13152|\n",
            "|Tornado.Cash: Router|Withdraw|       13422|\n",
            "+--------------------+--------+------------+\n",
            "\n"
          ]
        }
      ],
      "source": [
        "sql_code = spark.sql(\"\"\"\n",
        "  SELECT \n",
        "      to,\n",
        "      method,\n",
        "      count(value)\n",
        "  FROM combined_sql2\n",
        "  where method in ('Withdraw','Deposit')\n",
        "  group by 1,2\n",
        "  order by to\n",
        "  \"\"\")\n",
        "\n",
        "sql_code.show()"
      ]
    },
    {
      "cell_type": "code",
      "execution_count": null,
      "metadata": {
        "colab": {
          "background_save": true
        },
        "id": "h4vzHItTamCa"
      },
      "outputs": [],
      "source": [
        "df = spark.read.format(\"csv\") \\\n",
        "                    .option(\"header\", \"true\") \\\n",
        "                    .option(\"inferSchema\",\"true\") \\\n",
        "                    .load('/content/drive/MyDrive/first_degree_data')"
      ]
    }
  ],
  "metadata": {
    "colab": {
      "name": "Cryptocrimes - EDA.ipynb",
      "provenance": [],
      "include_colab_link": true
    },
    "kernelspec": {
      "display_name": "Python 3",
      "name": "python3"
    },
    "language_info": {
      "name": "python"
    }
  },
  "nbformat": 4,
  "nbformat_minor": 0
}